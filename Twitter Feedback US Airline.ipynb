{
 "cells": [
  {
   "cell_type": "code",
   "execution_count": 44,
   "metadata": {},
   "outputs": [],
   "source": [
    "import pandas as pd\n",
    "import plotly.plotly as py\n",
    "import plotly.graph_objs as go\n",
    "import numpy as np\n",
    "import scipy as sp\n",
    "import re\n",
    "re = re.compile('^[a-z\\.\\']+$')"
   ]
  },
  {
   "cell_type": "code",
   "execution_count": 5,
   "metadata": {},
   "outputs": [],
   "source": [
    "df = pd.read_csv('tweets.csv', encoding = \"ISO-8859-1\")"
   ]
  },
  {
   "cell_type": "code",
   "execution_count": 10,
   "metadata": {},
   "outputs": [],
   "source": [
    "# print(df.shape)\n",
    "# print(df.describe())\n",
    "# print(df.head(10))\n",
    "# Return key of attribute\n",
    "# print(df.columns)\n",
    "# print(df.info)\n",
    "# print(df.dtypes)\n",
    "# print(df.airline.value_counts())\n",
    "# value_counts.keys()\n",
    "# value_counts.head(n)\n",
    "# value_counts.keys.tolist()\n",
    "# value_counts.keys['name']"
   ]
  },
  {
   "cell_type": "code",
   "execution_count": 11,
   "metadata": {},
   "outputs": [
    {
     "name": "stdout",
     "output_type": "stream",
     "text": [
      "@@@@@@@@@@@ Number of Airlines @@@@@@@@@@@\n",
      "United            3822\n",
      "US Airways        2913\n",
      "American          2759\n",
      "Southwest         2420\n",
      "Delta             2222\n",
      "Virgin America     504\n",
      "Name: airline, dtype: int64\n"
     ]
    }
   ],
   "source": [
    "print('@@@@@@@@@@@ Number of Airlines @@@@@@@@@@@')\n",
    "print(df.airline.value_counts())"
   ]
  },
  {
   "cell_type": "code",
   "execution_count": 12,
   "metadata": {},
   "outputs": [
    {
     "name": "stdout",
     "output_type": "stream",
     "text": [
      "@@@@@@@@@@@ Number of Airlines @@@@@@@@@@@\n",
      "negative    9178\n",
      "neutral     3099\n",
      "positive    2363\n",
      "Name: airline_sentiment, dtype: int64\n"
     ]
    }
   ],
   "source": [
    "print('@@@@@@@@@@@ User Sentiment @@@@@@@@@@@')\n",
    "print(df.airline_sentiment.value_counts())"
   ]
  },
  {
   "cell_type": "code",
   "execution_count": 67,
   "metadata": {},
   "outputs": [
    {
     "name": "stdout",
     "output_type": "stream",
     "text": [
      "@@@@@@@@@@@ Negative Reasons @@@@@@@@@@@\n",
      "Customer Service Issue         2910\n",
      "Late Flight                    1665\n",
      "Can't Tell                     1190\n",
      "Cancelled Flight                847\n",
      "Lost Luggage                    724\n",
      "Bad Flight                      580\n",
      "Flight Booking Problems         529\n",
      "Flight Attendant Complaints     481\n",
      "longlines                       178\n",
      "Damaged Luggage                  74\n",
      "Name: negativereason, dtype: int64\n"
     ]
    }
   ],
   "source": [
    "print('@@@@@@@@@@@ Negative Reasons @@@@@@@@@@@')\n",
    "neg = df[df.airline_sentiment == 'negative'] # filter \n",
    "print(neg.negativereason.value_counts())\n"
   ]
  },
  {
   "cell_type": "code",
   "execution_count": 122,
   "metadata": {
    "scrolled": false
   },
   "outputs": [
    {
     "name": "stdout",
     "output_type": "stream",
     "text": [
      "@@@@@@@@@@@ Most Frequent  1  Words @@@@@@@@@@@\n",
      "tomorrow       50\n",
      "after          45\n",
      "can't          43\n",
      "hours          42\n",
      "because        40\n",
      "hotel          35\n",
      "another        34\n",
      "rebooked       32\n",
      "other          29\n",
      "plane          29\n",
      "weather        28\n",
      "don't          28\n",
      "rebook         28\n",
      "going          26\n",
      "today          24\n",
      "airline        23\n",
      "there          22\n",
      "today.         21\n",
      "phone          20\n",
      "about          19\n",
      "still          19\n",
      "until          18\n",
      "delayed        18\n",
      "would          18\n",
      "stuck          17\n",
      "refund         17\n",
      "never          16\n",
      "flying         16\n",
      "trying         16\n",
      "change         16\n",
      "stranded       15\n",
      "morning        15\n",
      "airport        15\n",
      "first          15\n",
      "getting        15\n",
      "through        15\n",
      "their          14\n",
      "waiting        14\n",
      "rescheduled    13\n",
      "understand     13\n",
      "before         13\n",
      "times          13\n",
      "already        13\n",
      "didn't         12\n",
      "service        12\n",
      "people         12\n",
      "email          12\n",
      "being          12\n",
      "thanks         12\n",
      "tomorrow.      12\n",
      "Name: word, dtype: int64\n",
      "@@@@@@@@@@@ Most Frequent  2  Words @@@@@@@@@@@\n",
      "tomorrow morning      12\n",
      "tomorrow morning.     10\n",
      "other airlines        10\n",
      "first class            8\n",
      "going rebook           8\n",
      "another airline        8\n",
      "can't through          8\n",
      "sleep airport          8\n",
      "customer service       8\n",
      "can't rebook           6\n",
      "understand weather     6\n",
      "going rebooked         6\n",
      "until tomorrow.        6\n",
      "rebooked tomorrow      6\n",
      "hotel because          6\n",
      "hours before           6\n",
      "drive hours            6\n",
      "don't understand       6\n",
      "because other          6\n",
      "other still            6\n",
      "because someone        4\n",
      "tomorrow waiting       4\n",
      "whammie showing        4\n",
      "slept airport          4\n",
      "boarding passes        4\n",
      "spend money            4\n",
      "hotel voucher          4\n",
      "their customers        4\n",
      "notice apology.        4\n",
      "really trouble.        4\n",
      "should change          4\n",
      "still going            4\n",
      "jumping could've       4\n",
      "rebook hours.          4\n",
      "switch. notice         4\n",
      "rebooked myself        4\n",
      "mechanical issues      4\n",
      "understand. going      4\n",
      "another credit         4\n",
      "apology. flying        4\n",
      "could've before        4\n",
      "reinstate tickets      4\n",
      "rescheduled hotel      4\n",
      "diapers baby.          4\n",
      "through drive          4\n",
      "hotel slept            4\n",
      "because there          4\n",
      "another notified       4\n",
      "looking forward        4\n",
      "showing going          4\n",
      "Name: word, dtype: int64\n"
     ]
    }
   ],
   "source": [
    "pat = r'^[a-z\\.\\']+$'\n",
    "word_list = []\n",
    "cancel_booking = neg[neg['negativereason'] == 'Cancelled Flight']\n",
    "for i in [1,2]:\n",
    "    span = i # dynamic of separator of words\n",
    "    for com in cancel_booking.text:\n",
    "        words = [w.lower() for w in com.split() if re.match(pat, w) and len(w) > 4 and w != 'flight' and w != 'flights' and w != 'flight.']\n",
    "        word_list += words\n",
    "    word_list = [\" \".join(word_list[i:i+span]) for i in range(0, len(word_list), 1)]\n",
    "    df_word_list = pd.DataFrame({'word':word_list})    \n",
    "    print('@@@@@@@@@@@ Most Frequent ', span , ' Words @@@@@@@@@@@')\n",
    "    print(df_word_list.word.value_counts().head(50))"
   ]
  },
  {
   "cell_type": "code",
   "execution_count": null,
   "metadata": {},
   "outputs": [],
   "source": []
  }
 ],
 "metadata": {
  "kernelspec": {
   "display_name": "Python 3",
   "language": "python",
   "name": "python3"
  },
  "language_info": {
   "codemirror_mode": {
    "name": "ipython",
    "version": 3
   },
   "file_extension": ".py",
   "mimetype": "text/x-python",
   "name": "python",
   "nbconvert_exporter": "python",
   "pygments_lexer": "ipython3",
   "version": "3.6.5"
  }
 },
 "nbformat": 4,
 "nbformat_minor": 2
}
